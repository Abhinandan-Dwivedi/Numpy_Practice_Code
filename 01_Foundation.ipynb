{
 "cells": [
  {
   "cell_type": "markdown",
   "id": "246c88d9",
   "metadata": {},
   "source": [
    "### Numpy array from Scratch"
   ]
  },
  {
   "cell_type": "code",
   "execution_count": 6,
   "id": "ad3658d7",
   "metadata": {},
   "outputs": [],
   "source": [
    "import numpy as np "
   ]
  },
  {
   "cell_type": "code",
   "execution_count": 26,
   "id": "2dd2ca94",
   "metadata": {},
   "outputs": [
    {
     "name": "stdout",
     "output_type": "stream",
     "text": [
      "[1 2 3 4 5 6]\n",
      "[[[1 2]\n",
      "  [3 4]]\n",
      "\n",
      " [[5 6]\n",
      "  [7 8]]]\n"
     ]
    }
   ],
   "source": [
    "np_array = np.array([1,2,3,4,5,6])\n",
    "print(np_array)\n",
    "\n",
    "matrix = np.array([[1,2,3],\n",
    "                  [4,5,6]])\n",
    "tensor = np.array([[[1,2], [3,4]],\n",
    "                   [[5,6] ,[7,8] ]])\n",
    "print(tensor)"
   ]
  },
  {
   "cell_type": "markdown",
   "id": "7517d1fe",
   "metadata": {},
   "source": [
    "### Numpy array vs List"
   ]
  },
  {
   "cell_type": "code",
   "execution_count": 12,
   "id": "4bbf581d",
   "metadata": {},
   "outputs": [
    {
     "name": "stdout",
     "output_type": "stream",
     "text": [
      "np array is : [2 4 6]\n",
      "list  is : [4, 5, 6, 4, 5, 6]\n",
      "array creation time is: 0.01074671745300293\n",
      "list creation time is: 0.12188935279846191\n"
     ]
    }
   ],
   "source": [
    "np_array =  np.array([1,2,3])\n",
    "print(\"np array is :\" , np_array*2) # multipling every element \n",
    "\n",
    "lst = [4,5,6]\n",
    "print(\"list  is :\", lst*2) # double size of list\n",
    "# comparision b/w array, list \n",
    "import time\n",
    "\n",
    "start = time.time()\n",
    "arr = np.arange(1000000) *2\n",
    "print(\"array creation time is:\" , time.time() - start)\n",
    "\n",
    "start2 = time.time()\n",
    "list = [i*2 for i  in range(1000000)] \n",
    "print(\"list creation time is:\" , time.time() - start2)\n"
   ]
  },
  {
   "cell_type": "markdown",
   "id": "e44ace79",
   "metadata": {},
   "source": [
    "### Creating array from scratch "
   ]
  },
  {
   "cell_type": "code",
   "execution_count": 25,
   "id": "2acc9bc7",
   "metadata": {},
   "outputs": [
    {
     "name": "stdout",
     "output_type": "stream",
     "text": [
      "three [[0. 0. 0. 0.]\n",
      " [0. 0. 0. 0.]]\n",
      "three [[1. 1. 1.]\n",
      " [1. 1. 1.]]\n",
      "three [[3 3 3]\n",
      " [3 3 3]]\n",
      "[[0.29732331 0.53953933 0.4119387 ]\n",
      " [0.99127911 0.56637162 0.67456422]\n",
      " [0.75489623 0.38400087 0.6326011 ]]\n",
      "[ 1  3  5  7  9 11]\n"
     ]
    }
   ],
   "source": [
    "zero_array = np.zeros((2,4))\n",
    "print(\"three\" , zero_array)\n",
    "ones = np.ones((2,3))\n",
    "print(\"three\" , ones)\n",
    "full  = np.full((2,3) ,3)\n",
    "print(\"three\" , full)\n",
    "randm = np.random.random((3,3))\n",
    "print(randm)\n",
    "sequence = np.arange(1, 13, 2, int)\n",
    "print(sequence)"
   ]
  },
  {
   "cell_type": "markdown",
   "id": "ad746a73",
   "metadata": {},
   "source": [
    "### Array Properties"
   ]
  },
  {
   "cell_type": "code",
   "execution_count": null,
   "id": "b9a9bc44",
   "metadata": {},
   "outputs": [
    {
     "name": "stdout",
     "output_type": "stream",
     "text": [
      " row, colmn (2, 4)\n",
      " total element  8\n",
      "Dymention  2\n",
      " Data type  int64\n",
      "[[1 5]\n",
      " [2 6]\n",
      " [3 7]\n",
      " [4 8]]\n"
     ]
    }
   ],
   "source": [
    "arr = np.array([[1,2,3,4], \n",
    "            [5,6,7,8]])\n",
    "\n",
    "print(\" row, colmn\", arr.shape)\n",
    "print(\" total element \", arr.size)\n",
    "print(\"Dymention \", arr.ndim)\n",
    "print(\" Data type \", arr.dtype)\n",
    "\n",
    "# transpose a matrix  \n",
    "t = arr.T\n",
    "print(t)"
   ]
  },
  {
   "cell_type": "markdown",
   "id": "9197905a",
   "metadata": {},
   "source": [
    "### Array reshaping and ravel"
   ]
  },
  {
   "cell_type": "code",
   "execution_count": 42,
   "id": "336dc5cb",
   "metadata": {},
   "outputs": [
    {
     "name": "stdout",
     "output_type": "stream",
     "text": [
      "[[1 2 3 4 5]\n",
      " [6 7 8 9 0]]\n",
      "flat array is [1 2 3 4 5 6 7 8 9 0]\n",
      "raveled array [1 2 3 4 5 6 7 8 9 0]\n",
      " reshaped array   [[1 2 3 4 5]\n",
      " [6 7 8 9 0]]\n"
     ]
    }
   ],
   "source": [
    "arr = np.array([1,2,3,4,5,6,7,8,9,0])\n",
    "reshape  = arr.reshape((2,5))\n",
    "print(reshape)\n",
    " \n",
    "flat = reshape.flatten()\n",
    "print(\"flat array is\", flat) \n",
    " \n",
    "raveled = reshape.ravel()\n",
    "print(\"raveled array\" , raveled) \n",
    "print(\" reshaped array  \",  reshape)"
   ]
  }
 ],
 "metadata": {
  "kernelspec": {
   "display_name": "venv (3.12.2)",
   "language": "python",
   "name": "python3"
  },
  "language_info": {
   "codemirror_mode": {
    "name": "ipython",
    "version": 3
   },
   "file_extension": ".py",
   "mimetype": "text/x-python",
   "name": "python",
   "nbconvert_exporter": "python",
   "pygments_lexer": "ipython3",
   "version": "3.12.2"
  }
 },
 "nbformat": 4,
 "nbformat_minor": 5
}
