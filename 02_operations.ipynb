{
 "cells": [
  {
   "cell_type": "markdown",
   "id": "012dbf0d",
   "metadata": {},
   "source": [
    "### Numpy array Operations"
   ]
  },
  {
   "cell_type": "code",
   "execution_count": 2,
   "id": "f9abfad8",
   "metadata": {},
   "outputs": [],
   "source": [
    "import numpy as np"
   ]
  },
  {
   "cell_type": "code",
   "execution_count": null,
   "id": "e442fb87",
   "metadata": {},
   "outputs": [
    {
     "name": "stdout",
     "output_type": "stream",
     "text": [
      "[4 5 6]\n",
      "[4 6]\n",
      "6\n"
     ]
    }
   ],
   "source": [
    "arr = np.array([1,2,3,4,5,6,7])\n",
    "print(arr[3:6])\n",
    "print(arr[3:6:2])\n",
    "print(arr[-2]) "
   ]
  },
  {
   "cell_type": "markdown",
   "id": "35e0374f",
   "metadata": {},
   "source": [
    "## Slice in 2D array "
   ]
  },
  {
   "cell_type": "code",
   "execution_count": 36,
   "id": "e6b55b1f",
   "metadata": {},
   "outputs": [
    {
     "name": "stdout",
     "output_type": "stream",
     "text": [
      "8\n",
      "[5 6 7 8]\n",
      "[ 3  7 44]\n",
      "[[ 7]\n",
      " [44]]\n"
     ]
    }
   ],
   "source": [
    "ar = np.array([[1,2,3,4],\n",
    "[5,6,7,8],\n",
    "[12,33,44,55]])\n",
    "\n",
    "print(ar[1,3]) # an element at (1,3) position\n",
    "print(ar[1]) # 2nd row\n",
    "print(ar[:,2]) # 3rd colomn \n",
    "print(ar[1:3, 2:3])  "
   ]
  },
  {
   "cell_type": "markdown",
   "id": "a939bb5d",
   "metadata": {},
   "source": [
    "## Sorting \n"
   ]
  },
  {
   "cell_type": "code",
   "execution_count": 28,
   "id": "79ced785",
   "metadata": {},
   "outputs": [
    {
     "name": "stdout",
     "output_type": "stream",
     "text": [
      "[1 2 3 4 5]\n",
      "colomn wise sorting  [[0 2 1]\n",
      " [2 3 4]\n",
      " [3 7 9]]\n"
     ]
    }
   ],
   "source": [
    "arr = np.array([1,2,3,4,5])\n",
    "print(np.sort(arr))\n",
    "\n",
    "arr_2d = np.array([[2,3,4],[3,2,1],[0,7,9]])\n",
    "print(\"colomn wise sorting \", np.sort(arr_2d, axis=0))\n"
   ]
  },
  {
   "cell_type": "markdown",
   "id": "c2935e3e",
   "metadata": {},
   "source": [
    "### filter with mask "
   ]
  },
  {
   "cell_type": "code",
   "execution_count": 22,
   "id": "c6adcf7e",
   "metadata": {},
   "outputs": [
    {
     "name": "stdout",
     "output_type": "stream",
     "text": [
      "[2 4]\n",
      "[4 5]\n"
     ]
    }
   ],
   "source": [
    "mask = arr % 2 == 0\n",
    "a = arr[mask]\n",
    "print(a)\n",
    "mask = arr > 3\n",
    "b  = arr[mask]\n",
    "print(b)"
   ]
  },
  {
   "cell_type": "markdown",
   "id": "c28f38ae",
   "metadata": {},
   "source": [
    "### Fancy Indexing and np.where"
   ]
  },
  {
   "cell_type": "code",
   "execution_count": 7,
   "id": "cf6abcca",
   "metadata": {},
   "outputs": [
    {
     "name": "stdout",
     "output_type": "stream",
     "text": [
      "[2 3 5]\n",
      "without reference [2 3 5]\n",
      "(array([3, 4]),)\n",
      " from np.where indeces [5 6]\n"
     ]
    }
   ],
   "source": [
    "number = np.array([2,3,4,5,6,1])\n",
    "indices = [0,1,3] \n",
    "print(number[indices])\n",
    "# print(\"without reference\" ,number[0,1,3] ) #IndexError: too many indices for array: array is 1-dimensional, but 3 were indexed\n",
    "print(\"without reference\" ,number[([0,1,3])] )  \n",
    "\n",
    "ind = np.where(number > 4)\n",
    "print(ind)\n",
    "print(\" from np.where indeces\",number[ind])\n",
    " "
   ]
  },
  {
   "cell_type": "code",
   "execution_count": 8,
   "id": "f56c9c98",
   "metadata": {},
   "outputs": [
    {
     "name": "stdout",
     "output_type": "stream",
     "text": [
      "[False  True  True  True  True False]\n"
     ]
    }
   ],
   "source": [
    "condition  = np.where(number > 2, True ,False)\n",
    "print(condition)"
   ]
  },
  {
   "cell_type": "markdown",
   "id": "404b2800",
   "metadata": {},
   "source": [
    "## Adding  and Removinng "
   ]
  },
  {
   "cell_type": "code",
   "execution_count": 15,
   "id": "38dbf5cd",
   "metadata": {},
   "outputs": [
    {
     "name": "stdout",
     "output_type": "stream",
     "text": [
      "[ 1  2 10  8 13 15]\n",
      "[1 2 3 4 5 6 0 0 7 4 8 9]\n",
      "[1 2 3 5 6]\n",
      "1 nad 2 are comapatible or not : True\n"
     ]
    }
   ],
   "source": [
    "ar1 = np.array([1,2,3,4,5,6])\n",
    "ar2 = np.array([0,0,7,4,8,9])\n",
    "print(ar1 + ar2)\n",
    "print(np.concatenate((ar1,ar2))) \n",
    "print(np.delete(ar1, 3))\n",
    "\n",
    "# Compatibility check \n",
    "print(\"1 nad 2 are comapatible or not :\", ar1.shape == ar2.shape) \n"
   ]
  },
  {
   "cell_type": "code",
   "execution_count": 27,
   "id": "2dd2d5fd",
   "metadata": {},
   "outputs": [
    {
     "name": "stdout",
     "output_type": "stream",
     "text": [
      "new array with new row [[ 2  3  4]\n",
      " [ 5  6  7]\n",
      " [ 8  9 10]\n",
      " [ 0  0  0]]\n",
      "adding new colomn : [[ 2  3  4  0]\n",
      " [ 5  6  7  0]\n",
      " [ 8  9 10  0]]\n",
      " After deleting the row  [[ 2  3  4]\n",
      " [ 8  9 10]]\n",
      " After deleting the colomn  [[ 2  4]\n",
      " [ 5  7]\n",
      " [ 8 10]]\n"
     ]
    }
   ],
   "source": [
    "arr = np.array([[2,3,4],[5,6,7],[8,9,10]])\n",
    "r = np.array([0,0,0])\n",
    "print(\"new array with new row\", np.vstack((arr , r))) \n",
    "c = np.array([[0],[0],[0]])\n",
    "print(\"adding new colomn :\", np.hstack((arr, c))) \n",
    "\n",
    "print(\" After deleting the row \" , np.delete(arr , 1, 0))\n",
    "print(\" After deleting the colomn \" , np.delete(arr , 1, 1))"
   ]
  }
 ],
 "metadata": {
  "kernelspec": {
   "display_name": "venv (3.12.2)",
   "language": "python",
   "name": "python3"
  },
  "language_info": {
   "codemirror_mode": {
    "name": "ipython",
    "version": 3
   },
   "file_extension": ".py",
   "mimetype": "text/x-python",
   "name": "python",
   "nbconvert_exporter": "python",
   "pygments_lexer": "ipython3",
   "version": "3.12.2"
  }
 },
 "nbformat": 4,
 "nbformat_minor": 5
}
